{
 "cells": [
  {
   "cell_type": "code",
   "execution_count": 2,
   "metadata": {},
   "outputs": [],
   "source": [
    "from fitnick.base.base import get_df_from_db, create_spark_session\n",
    "from pyspark.sql import functions as F"
   ]
  },
  {
   "cell_type": "code",
   "execution_count": 3,
   "metadata": {},
   "outputs": [],
   "source": [
    "spark_session = create_spark_session()\n",
    "df = get_df_from_db(spark_session=spark_session, database='fitbit', schema='heart', table='daily')"
   ]
  },
  {
   "cell_type": "code",
   "execution_count": 4,
   "metadata": {},
   "outputs": [
    {
     "data": {
      "text/plain": [
       "160"
      ]
     },
     "execution_count": 4,
     "metadata": {},
     "output_type": "execute_result"
    }
   ],
   "source": [
    "df.count()"
   ]
  },
  {
   "cell_type": "code",
   "execution_count": 5,
   "metadata": {},
   "outputs": [
    {
     "name": "stdout",
     "output_type": "stream",
     "text": [
      "+------------+----------+----------+----------+------------------+\n",
      "|        type|   minutes|      date|  calories|resting_heart_rate|\n",
      "+------------+----------+----------+----------+------------------+\n",
      "|Out of Range|1307.00000|2020-08-12|2316.92384|                64|\n",
      "|    Fat Burn| 111.00000|2020-08-12| 803.28542|                64|\n",
      "|      Cardio|   1.00000|2020-08-12|  10.68788|                64|\n",
      "|        Peak|   0.00000|2020-08-12|   0.00000|                64|\n",
      "|Out of Range|1256.00000|2020-08-16|2271.26376|                66|\n",
      "|    Fat Burn|  97.00000|2020-08-16| 667.78308|                66|\n",
      "|      Cardio|   0.00000|2020-08-16|   0.00000|                66|\n",
      "|        Peak|   0.00000|2020-08-16|   0.00000|                66|\n",
      "|Out of Range|  12.00000|2020-09-17|  18.83448|                 0|\n",
      "|    Fat Burn|   0.00000|2020-09-17|   0.00000|                 0|\n",
      "|      Cardio|   0.00000|2020-09-17|   0.00000|                 0|\n",
      "|        Peak|   0.00000|2020-09-17|   0.00000|                 0|\n",
      "|Out of Range|   0.00000|2020-09-18|   0.00000|                 0|\n",
      "|    Fat Burn|   0.00000|2020-09-18|   0.00000|                 0|\n",
      "|      Cardio|   0.00000|2020-09-18|   0.00000|                 0|\n",
      "|        Peak|   0.00000|2020-09-18|   0.00000|                 0|\n",
      "|Out of Range|1299.00000|2020-08-20|2164.34791|                69|\n",
      "|    Fat Burn| 126.00000|2020-08-20| 819.35015|                69|\n",
      "|      Cardio|   2.00000|2020-08-20|  21.40238|                69|\n",
      "|        Peak|   0.00000|2020-08-20|   0.00000|                69|\n",
      "+------------+----------+----------+----------+------------------+\n",
      "only showing top 20 rows\n",
      "\n"
     ]
    }
   ],
   "source": [
    "df.show()"
   ]
  },
  {
   "cell_type": "code",
   "execution_count": 6,
   "metadata": {},
   "outputs": [
    {
     "name": "stdout",
     "output_type": "stream",
     "text": [
      "+----------+-------------+\n",
      "|      date|sum(calories)|\n",
      "+----------+-------------+\n",
      "|2020-08-10|   2438.68243|\n",
      "|2020-08-11|   2663.30764|\n",
      "|2020-08-12|   3130.89714|\n",
      "|2020-08-13|   2885.06340|\n",
      "|2020-08-14|   3237.32772|\n",
      "|2020-08-15|   3301.11950|\n",
      "|2020-08-16|   2939.04684|\n",
      "|2020-08-17|   2935.40828|\n",
      "|2020-08-18|   2907.24035|\n",
      "|2020-08-19|   3127.92480|\n",
      "|2020-08-20|   3005.10044|\n",
      "|2020-08-21|   3126.66437|\n",
      "|2020-08-22|   2934.32613|\n",
      "|2020-08-23|   3024.99679|\n",
      "|2020-08-24|   3145.74174|\n",
      "|2020-08-25|   2933.78016|\n",
      "|2020-08-26|   3259.07660|\n",
      "|2020-08-27|   2786.45880|\n",
      "|2020-08-28|   2954.24080|\n",
      "|2020-08-29|   2950.57896|\n",
      "|2020-08-30|   3213.29694|\n",
      "|2020-08-31|   3147.11566|\n",
      "|2020-09-01|   3019.00800|\n",
      "|2020-09-02|   3204.99759|\n",
      "|2020-09-03|   3028.44855|\n",
      "|2020-09-04|   2922.87960|\n",
      "|2020-09-05|   2839.33824|\n",
      "|2020-09-06|   2942.80329|\n",
      "|2020-09-07|   2906.42344|\n",
      "|2020-09-08|   2866.14761|\n",
      "|2020-09-09|   2888.65216|\n",
      "|2020-09-10|   2958.74490|\n",
      "|2020-09-11|   3021.66144|\n",
      "|2020-09-12|   3027.38814|\n",
      "|2020-09-13|   3246.02082|\n",
      "|2020-09-14|   2976.99318|\n",
      "|2020-09-15|   3064.29354|\n",
      "|2020-09-16|   3018.47994|\n",
      "|2020-09-17|     18.83448|\n",
      "|2020-09-18|      0.00000|\n",
      "+----------+-------------+\n",
      "\n"
     ]
    }
   ],
   "source": [
    "# given the above df, how would you show total calories burned for each date?\n",
    "agg_df = df.groupBy(F.col('date')).agg(F.sum('calories')).alias('calories')\n",
    "agg_df.orderBy('date').show(agg_df.count())"
   ]
  },
  {
   "cell_type": "code",
   "execution_count": 7,
   "metadata": {},
   "outputs": [
    {
     "name": "stdout",
     "output_type": "stream",
     "text": [
      "TODAY'S BURNED CALORIES: 18.83448\n",
      "30 DAY AVG DAY'S BURNED CALORIES: 3012.394556774\n",
      "\n",
      "\n",
      "You've burned 2993.560076774 less calories today compared to your 30 day average.\n",
      "There's still 23.537777777777777 hours left to go today, so you'll need to burn 127.18108332215824 calories per hour, on average.\n",
      "You'll burn 1960.6968888888887 just by existing - so the other 1032.8631878851115 will need to come from exercise!\n"
     ]
    }
   ],
   "source": [
    "import datetime\n",
    "import pyspark.sql.functions as F\n",
    "\n",
    "def get_avg_calories_burned_for_period(period=30, compare_to_today=True):\n",
    "    spark_session = create_spark_session()\n",
    "    end_date = datetime.date.today() - datetime.timedelta(days=1)  # exclude today's data\n",
    "    start_date = end_date - datetime.timedelta(days=period)\n",
    "    df = get_df_from_db(spark_session=spark_session, database='fitbit', schema='heart', table='daily')\n",
    "    \n",
    "    filtered_df = df.where(df.date.between(start_date, end_date))\n",
    "    agg_df = filtered_df.groupBy(F.col('date')).agg(F.sum('calories'))\n",
    "    avg_for_period = agg_df.select('sum(calories)').agg(F.avg('sum(calories)').alias('calories'))\n",
    "    \n",
    "    if compare_to_today:\n",
    "        todays_sum_calories = df.where(df.date == datetime.date.today()).agg(F.sum('calories').alias('calories')).take(1)[0].calories\n",
    "        avg_sum_calories = avg_for_period.take(1)[0].calories\n",
    "        print('TODAY\\'S BURNED CALORIES: {}'.format(todays_sum_calories))\n",
    "        print('{} DAY AVG DAY\\'S BURNED CALORIES: {}'.format(period, avg_sum_calories))\n",
    "        print('\\n')\n",
    "        \n",
    "        if todays_sum_calories < avg_sum_calories:\n",
    "            tomorrow = datetime.datetime.now() + datetime.timedelta(1)\n",
    "            midnight = datetime.datetime(year=tomorrow.year, month=tomorrow.month, day=tomorrow.day, hour=0, minute=0, second=0)\n",
    "            time_to_midnight = ((midnight - datetime.datetime.now()).seconds / 60) / 60\n",
    "            calorie_difference = avg_sum_calories - todays_sum_calories\n",
    "            print(\"You've burned {} less calories today compared to your {} day average.\".format(calorie_difference, period))\n",
    "            print(\n",
    "                \"There's still {} hours left to go today, so you'll need to burn {} calories per hour, on average.\".format(\n",
    "                time_to_midnight, float(calorie_difference) / time_to_midnight)\n",
    "            )\n",
    "            print(f\"You'll burn {83.3 * time_to_midnight} just by existing - so the other {float(calorie_difference) - (83.3 * time_to_midnight)} will need to come from exercise!\")\n",
    "        return\n",
    "\n",
    "    return\n",
    "\n",
    "get_avg_calories_burned_for_period()"
   ]
  },
  {
   "cell_type": "code",
   "execution_count": null,
   "metadata": {},
   "outputs": [],
   "source": []
  }
 ],
 "metadata": {
  "kernelspec": {
   "display_name": "Python 3",
   "language": "python",
   "name": "python3"
  },
  "language_info": {
   "codemirror_mode": {
    "name": "ipython",
    "version": 3
   },
   "file_extension": ".py",
   "mimetype": "text/x-python",
   "name": "python",
   "nbconvert_exporter": "python",
   "pygments_lexer": "ipython3",
   "version": "3.7.4"
  }
 },
 "nbformat": 4,
 "nbformat_minor": 4
}
