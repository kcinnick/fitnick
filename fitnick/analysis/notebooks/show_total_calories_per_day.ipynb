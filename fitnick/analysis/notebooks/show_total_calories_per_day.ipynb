{
 "cells": [
  {
   "cell_type": "code",
   "execution_count": 18,
   "metadata": {},
   "outputs": [],
   "source": [
    "from fitnick.base.base import get_df_from_db, create_spark_session\n",
    "from pyspark.sql import functions as F"
   ]
  },
  {
   "cell_type": "code",
   "execution_count": 4,
   "metadata": {},
   "outputs": [],
   "source": [
    "spark_session = create_spark_session()\n",
    "df = get_df_from_db(spark_session=spark_session, database='fitbit', schema='heart', table='daily')"
   ]
  },
  {
   "cell_type": "code",
   "execution_count": 5,
   "metadata": {},
   "outputs": [
    {
     "data": {
      "text/plain": [
       "124"
      ]
     },
     "execution_count": 5,
     "metadata": {},
     "output_type": "execute_result"
    }
   ],
   "source": [
    "df.count()"
   ]
  },
  {
   "cell_type": "code",
   "execution_count": 17,
   "metadata": {},
   "outputs": [
    {
     "name": "stdout",
     "output_type": "stream",
     "text": [
      "+------------+----------+----------+----------+------------------+\n",
      "|        type|   minutes|      date|  calories|resting_heart_rate|\n",
      "+------------+----------+----------+----------+------------------+\n",
      "|Out of Range|1327.00000|2020-09-04|2219.64960|                68|\n",
      "|    Fat Burn| 108.00000|2020-09-04| 670.24212|                68|\n",
      "|      Cardio|   3.00000|2020-09-04|  32.98788|                68|\n",
      "|        Peak|   0.00000|2020-09-04|   0.00000|                68|\n",
      "|Out of Range|1294.00000|2020-09-08|2185.97360|                68|\n",
      "|    Fat Burn| 119.00000|2020-09-08| 677.76680|                68|\n",
      "|      Cardio|   1.00000|2020-09-08|  10.73184|                68|\n",
      "|        Peak|   0.00000|2020-09-08|   0.00000|                68|\n",
      "|Out of Range|1307.00000|2020-08-12|2316.92384|                64|\n",
      "|    Fat Burn| 111.00000|2020-08-12| 803.28542|                64|\n",
      "|      Cardio|   1.00000|2020-08-12|  10.68788|                64|\n",
      "|        Peak|   0.00000|2020-08-12|   0.00000|                64|\n",
      "|Out of Range|1256.00000|2020-08-16|2271.26376|                66|\n",
      "|    Fat Burn|  97.00000|2020-08-16| 667.78308|                66|\n",
      "|      Cardio|   0.00000|2020-08-16|   0.00000|                66|\n",
      "|        Peak|   0.00000|2020-08-16|   0.00000|                66|\n",
      "|Out of Range|1299.00000|2020-08-20|2164.34791|                69|\n",
      "|    Fat Burn| 126.00000|2020-08-20| 819.35015|                69|\n",
      "|      Cardio|   2.00000|2020-08-20|  21.40238|                69|\n",
      "|        Peak|   0.00000|2020-08-20|   0.00000|                69|\n",
      "+------------+----------+----------+----------+------------------+\n",
      "only showing top 20 rows\n",
      "\n"
     ]
    }
   ],
   "source": [
    "df.show()"
   ]
  },
  {
   "cell_type": "code",
   "execution_count": 34,
   "metadata": {},
   "outputs": [
    {
     "name": "stdout",
     "output_type": "stream",
     "text": [
      "+----------+-------------+\n",
      "|      date|sum(calories)|\n",
      "+----------+-------------+\n",
      "|2020-08-10|   2438.68243|\n",
      "|2020-08-11|   2663.30764|\n",
      "|2020-08-12|   3130.89714|\n",
      "|2020-08-13|   2885.06340|\n",
      "|2020-08-14|   3237.32772|\n",
      "|2020-08-15|   3301.11950|\n",
      "|2020-08-16|   2939.04684|\n",
      "|2020-08-17|   2935.40828|\n",
      "|2020-08-18|   2907.24035|\n",
      "|2020-08-19|   3127.92480|\n",
      "|2020-08-20|   3005.10044|\n",
      "|2020-08-21|   3126.66437|\n",
      "|2020-08-22|   2934.32613|\n",
      "|2020-08-23|   3024.99679|\n",
      "|2020-08-24|   3145.74174|\n",
      "|2020-08-25|   2933.78016|\n",
      "|2020-08-26|   3259.07660|\n",
      "|2020-08-27|   2786.45880|\n",
      "|2020-08-28|   2954.24080|\n",
      "|2020-08-29|   2950.57896|\n",
      "|2020-08-30|   3213.29694|\n",
      "|2020-08-31|   3147.11566|\n",
      "|2020-09-01|   3019.00800|\n",
      "|2020-09-02|   3204.99759|\n",
      "|2020-09-03|   3028.44855|\n",
      "|2020-09-04|   2922.87960|\n",
      "|2020-09-05|   2839.33824|\n",
      "|2020-09-06|   2948.57304|\n",
      "|2020-09-07|   2913.95008|\n",
      "|2020-09-08|   2874.47224|\n",
      "|2020-09-09|   2894.14728|\n",
      "+----------+-------------+\n",
      "\n"
     ]
    }
   ],
   "source": [
    "# given the above df, how would you show total calories burned for each date?\n",
    "agg_df = df.groupBy(F.col('date')).agg(F.sum('calories'))\n",
    "agg_df.orderBy('date').show(agg_df.count())"
   ]
  },
  {
   "cell_type": "code",
   "execution_count": null,
   "metadata": {},
   "outputs": [],
   "source": []
  }
 ],
 "metadata": {
  "kernelspec": {
   "display_name": "Python 3",
   "language": "python",
   "name": "python3"
  },
  "language_info": {
   "codemirror_mode": {
    "name": "ipython",
    "version": 3
   },
   "file_extension": ".py",
   "mimetype": "text/x-python",
   "name": "python",
   "nbconvert_exporter": "python",
   "pygments_lexer": "ipython3",
   "version": "3.7.4"
  }
 },
 "nbformat": 4,
 "nbformat_minor": 4
}
